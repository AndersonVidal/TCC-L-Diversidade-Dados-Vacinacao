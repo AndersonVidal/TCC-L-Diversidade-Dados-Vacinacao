{
 "cells": [
  {
   "cell_type": "code",
   "execution_count": 63,
   "id": "6fe9cb88",
   "metadata": {},
   "outputs": [],
   "source": [
    "# Carregando libs\n",
    "import pandas as pd\n",
    "from datetime import datetime"
   ]
  },
  {
   "cell_type": "code",
   "execution_count": 55,
   "id": "b3afe066",
   "metadata": {},
   "outputs": [],
   "source": [
    "# Base alvo\n",
    "df_pb = pd.read_csv('.//baseAtaque//pb-vacina_150122_adj.csv',sep=';', low_memory=False)\n",
    "db_vacina = df_pb.copy()"
   ]
  },
  {
   "cell_type": "code",
   "execution_count": 56,
   "id": "b2764c3d",
   "metadata": {},
   "outputs": [],
   "source": [
    "# index\n",
    "db_vacina.dropna()\n",
    "db_vacina = df_pb.copy()\n",
    "db_vacina = db_vacina.loc[db_vacina.vacina_descricao_dose == '1ª Dose']\n",
    "db_vacina = db_vacina.set_index([\n",
    "    'paciente_dataNascimento', \n",
    "    'paciente_enumSexoBiologico', \n",
    "    'paciente_racaCor_valor', \n",
    "    'paciente_endereco_uf',\n",
    "    'paciente_endereco_nmMunicipio'\n",
    "])\n",
    "db_vacina = db_vacina.sort_index()"
   ]
  },
  {
   "cell_type": "code",
   "execution_count": 5,
   "id": "db64d60c",
   "metadata": {},
   "outputs": [],
   "source": [
    "# Bases externa\n",
    "df_prouni = pd.read_csv('ProuniRelatorio2020.csv', sep=';',encoding= 'unicode_escape')"
   ]
  },
  {
   "cell_type": "code",
   "execution_count": 6,
   "id": "860282ef",
   "metadata": {},
   "outputs": [],
   "source": [
    "colunas = [\n",
    "    'ANO_CONCESSAO_BOLSA',\n",
    "    'CODIGO_EMEC_IES_BOLSA',\n",
    "    'NOME_IES_BOLSA',\n",
    "    'MUNICIPIO',\n",
    "    'CAMPUS',\n",
    "    'TIPO_BOLSA',\n",
    "    'MODALIDADE_ENSINO_BOLSA',\n",
    "    'NOME_CURSO_BOLSA',\n",
    "    'NOME_TURNO_CURSO_BOLSA',\n",
    "    'CPF_BENEFICIARIO',\n",
    "    'SEXO_BENEFICIARIO',\n",
    "    'RACA_BENEFICIARIO',\n",
    "    'DATA_NASCIMENTO',\n",
    "    'BENEFICIARIO_DEFICIENTE_FISICO',\n",
    "    'REGIAO_BENEFICIARIO',\n",
    "    'UF_BENEFICIARIO',\n",
    "    'MUNICIPIO_BENEFICIARIO',\n",
    "]\n",
    "df_prouni = df_prouni[colunas]\n",
    "df_prouni.RACA_BENEFICIARIO = df_prouni.RACA_BENEFICIARIO.str.upper()\n",
    "df_prouni.loc[df_prouni.RACA_BENEFICIARIO == 'IND¡GENA', 'RACA_BENEFICIARIO'] = 'INDIGENA'\n",
    "df_prouni.DATA_NASCIMENTO = pd.to_datetime(df_prouni.DATA_NASCIMENTO)\n",
    "df_prouni = df_prouni[df_prouni['UF_BENEFICIARIO'] == 'PB']"
   ]
  },
  {
   "cell_type": "code",
   "execution_count": 7,
   "id": "71e1c1e8",
   "metadata": {},
   "outputs": [],
   "source": [
    "df_prouni = df_prouni[df_prouni['UF_BENEFICIARIO'] == 'PB']"
   ]
  },
  {
   "cell_type": "code",
   "execution_count": 59,
   "id": "0b3fd482",
   "metadata": {},
   "outputs": [
    {
     "name": "stderr",
     "output_type": "stream",
     "text": [
      "C:\\Users\\Anderson\\AppData\\Local\\Temp/ipykernel_14116/1829838329.py:32: PerformanceWarning: indexing past lexsort depth may impact performance.\n",
      "  ataque = db_vacina.loc[idx]\n"
     ]
    },
    {
     "name": "stdout",
     "output_type": "stream",
     "text": [
      "Tota de registros processados: 2763\n",
      "Identificados: 1058\n",
      "Não identificados: 1705\n",
      "taxa de identificação: 38.292 %\n"
     ]
    }
   ],
   "source": [
    "# script de ataque\n",
    "from datetime import date \n",
    "def calcIdade(birthDate):\n",
    "    y = int(birthDate[0:4])\n",
    "    m = int(birthDate[5:7])\n",
    "    d = int(birthDate[8:])\n",
    "    bd = date(y, m, d)\n",
    "    days_in_year = 365.2425\n",
    "    age = int((date.today() - bd).days / days_in_year) \n",
    "    return str(age)\n",
    "def normDate(date):\n",
    "    return date.strftime(\"%Y-%m-%d\")\n",
    "def normRaca(raca):\n",
    "    return raca.upper()\n",
    "\n",
    "# script de ataque\n",
    "identificados = []\n",
    "contador_identificado = 0\n",
    "contador_nao_identificado = 0\n",
    "\n",
    "for idx, r_prouni in df_prouni.iterrows():\n",
    "    #quasi-identifiers\n",
    "    # print(r_prouni)\n",
    "    sexo = r_prouni[10]\n",
    "    raca = normRaca(r_prouni[11])\n",
    "    dNasc = normDate(r_prouni[12])\n",
    "    uf = r_prouni[15]\n",
    "    cidade = r_prouni[16]\n",
    "    \n",
    "    try:\n",
    "        idx = (dNasc, sexo, raca, uf, cidade)\n",
    "        ataque = db_vacina.loc[idx]\n",
    "        pessoa = ataque.copy()\n",
    "    except KeyError:\n",
    "        pessoa = []\n",
    "    \n",
    "    if len(pessoa) > 0 and len(pessoa) <= 5:\n",
    "        pessoa['cpf'] = r_prouni[9]\n",
    "        pessoa['ies'] = r_prouni[2]\n",
    "        pessoa['curso'] = r_prouni[7]\n",
    "        \n",
    "        if len(identificados) == 0:\n",
    "            identificados = pessoa\n",
    "        else:\n",
    "            identificados = pd.concat([identificados,pessoa])\n",
    "        \n",
    "        contador_identificado += 1\n",
    "    else:\n",
    "        contador_nao_identificado += 1\n",
    "\n",
    "print('Tota de registros processados:', contador_identificado + contador_nao_identificado)\n",
    "print('Identificados:', contador_identificado)\n",
    "print('Não identificados:', contador_nao_identificado)\n",
    "total = contador_identificado + contador_nao_identificado\n",
    "persentual = round((contador_identificado / total) * 100, 3)\n",
    "print('taxa de identificação:', persentual, '%')"
   ]
  },
  {
   "cell_type": "code",
   "execution_count": 54,
   "id": "f249b409",
   "metadata": {},
   "outputs": [
    {
     "data": {
      "text/plain": [
       "paciente_dataNascimento  paciente_enumSexoBiologico  paciente_racaCor_valor\n",
       "1998-08-08               F                           PARDA                              Pessoas de 18 a 64 anos\n",
       "                                                     PARDA                              Pessoas de 18 a 64 anos\n",
       "                                                     PARDA                              Pessoas de 18 a 64 anos\n",
       "                                                     PARDA                              Pessoas de 18 a 64 anos\n",
       "                                                     PARDA                              Pessoas de 18 a 64 anos\n",
       "                                                     PARDA                                        Enfermeiro(a)\n",
       "                                                     PARDA                                               Outros\n",
       "                                                     PARDA                              Pessoas de 18 a 64 anos\n",
       "                                                     PARDA                              Pessoas de 18 a 64 anos\n",
       "                                                     PARDA                              Pessoas de 18 a 64 anos\n",
       "                                                     PARDA                                               Outros\n",
       "                                                     PARDA                              Pessoas de 18 a 64 anos\n",
       "                                                     PARDA                     Profissionais de Educação Física\n",
       "                                                     PARDA                              Pessoas de 18 a 64 anos\n",
       "                                                     PARDA                              Pessoas de 18 a 64 anos\n",
       "                                                     PARDA                              Pessoas de 18 a 64 anos\n",
       "                                                     PARDA                            Trabalhadores Industriais\n",
       "                                                     PARDA                                           Quilombola\n",
       "                                                     PARDA                              Pessoas de 18 a 64 anos\n",
       "                                                     PARDA                              Pessoas de 18 a 64 anos\n",
       "                                                     PARDA                              Pessoas de 18 a 64 anos\n",
       "                                                     PARDA                                               Outros\n",
       "                                                     PARDA                              Pessoas de 18 a 64 anos\n",
       "                                                     PARDA                              Pessoas de 18 a 64 anos\n",
       "                                                     PARDA                              Pessoas de 18 a 64 anos\n",
       "                                                     PARDA                              Pessoas de 18 a 64 anos\n",
       "                                                     PARDA                              Pessoas de 18 a 64 anos\n",
       "                                                     PARDA                              Pessoas de 18 a 64 anos\n",
       "                                                     PARDA                              Pessoas de 18 a 64 anos\n",
       "                                                     PARDA                              Pessoas de 18 a 64 anos\n",
       "                                                     PARDA                                     Síndrome de Down\n",
       "                                                     PARDA                                           Quilombola\n",
       "                                                     PARDA                              Pessoas de 18 a 64 anos\n",
       "Name: vacina_grupoAtendimento_nome, dtype: object"
      ]
     },
     "execution_count": 54,
     "metadata": {},
     "output_type": "execute_result"
    }
   ],
   "source": [
    "ataque.vacina_grupoAtendimento_nome"
   ]
  },
  {
   "cell_type": "code",
   "execution_count": 128,
   "id": "5e1149dc",
   "metadata": {},
   "outputs": [],
   "source": [
    "# Base alvo anonimizada\n",
    "df_pb = pd.read_csv('.//baseAtaque//pb-vacina_anom20.csv',sep=';', low_memory=False, encoding=\"ISO-8859-1\")\n",
    "db_vacina = df_pb.copy()\n",
    "db_vacina.dropna()\n",
    "db_vacina = df_pb.copy()\n",
    "db_vacina = db_vacina.loc[db_vacina.vacina_descricao_dose == '1Âª Dose']\n",
    "db_vacina = db_vacina.set_index([\n",
    "    'paciente_dataNascimento', \n",
    "    'paciente_enumSexoBiologico', \n",
    "    'paciente_racaCor_valor', \n",
    "    'paciente_endereco_uf',\n",
    "    'paciente_endereco_nmMunicipio'\n",
    "])\n",
    "db_vacina = db_vacina.sort_index()"
   ]
  },
  {
   "cell_type": "code",
   "execution_count": 104,
   "id": "5ccfae25",
   "metadata": {},
   "outputs": [],
   "source": [
    "# index\n"
   ]
  },
  {
   "cell_type": "code",
   "execution_count": 101,
   "id": "8a3f7eb9",
   "metadata": {},
   "outputs": [],
   "source": [
    "from datetime import datetime\n",
    "\n",
    "NIVEL3 = {}\n",
    "NIVEL4 = {}\n",
    "NIVEL5 = {}\n",
    "NIVEL6 = '[1890-01-01, 2021-05-30['\n",
    "\n",
    "NIVEL3[(date(1890,1,1), date(1920,1,1))] = '[1890-01-01, 1920-01-01['\n",
    "NIVEL3[(date(1920,1,1), date(1940,1,1))] = '[1920-01-01, 1940-01-01['\n",
    "NIVEL3[(date(1940,1,1), date(1960,1,1))] = '[1940-01-01, 1960-01-01['\n",
    "NIVEL3[(date(1960,1,1), date(1980,1,1))] = '[1960-01-01, 1980-01-01['\n",
    "NIVEL3[(date(1980,1,1), date(2000,1,1))] = '[1980-01-01, 2000-01-01['\n",
    "NIVEL3[(date(2000,1,1), date(2022,5,30))] = '[2000-01-01, 2021-05-30['\n",
    "\n",
    "NIVEL4[(date(1890,1,1), date(1940,1,1))] = '[1890-01-01, 1940-01-01['\n",
    "NIVEL4[(date(1940,1,1), date(1980,1,1))] = '[1940-01-01, 1980-01-01['\n",
    "NIVEL4[(date(1980,1,1), date(2022,5,30))] = '[1980-01-01, 2021-05-30['\n",
    "\n",
    "NIVEL5[(date(1890,1,1), date(1980,1,1))] = '[1890-01-01, 1980-01-01['\n",
    "NIVEL5[(date(1980,1,1), date(2022,5,30))] = '[1980-01-01, 2021-05-30['"
   ]
  },
  {
   "cell_type": "code",
   "execution_count": 139,
   "id": "35c4247f",
   "metadata": {},
   "outputs": [
    {
     "name": "stderr",
     "output_type": "stream",
     "text": [
      "C:\\Users\\Anderson\\AppData\\Local\\Temp/ipykernel_14116/3864148460.py:33: PerformanceWarning: indexing past lexsort depth may impact performance.\n",
      "  ataque = db_vacina.loc[idx]\n"
     ]
    },
    {
     "name": "stdout",
     "output_type": "stream",
     "text": [
      "28372\n",
      "2345\n",
      "217\n",
      "171\n",
      "Identificados 7\n",
      "Não identificados 2756\n",
      "taxa de identificação 0.2533478103510677 %\n"
     ]
    }
   ],
   "source": [
    "def calcIdade(birthDate):\n",
    "    days_in_year = 365.2425\n",
    "    age = int((date.today() - birthDate.date()).days / days_in_year) \n",
    "    return str(age)\n",
    "\n",
    "def calcInterval(birthDate):\n",
    "    if birthDate == '*': return birthDate\n",
    "    for i, f in NIVEL5.keys():\n",
    "        if i <= birthDate.date() and f >= birthDate.date():\n",
    "            return NIVEL5[(i, f)]\n",
    "    \n",
    "def normRaca(raca):\n",
    "    return raca.upper()\n",
    "\n",
    "# script de ataque\n",
    "identificados = []\n",
    "contador_identificado = 0\n",
    "contador_nao_identificado = 0\n",
    "\n",
    "minimo = 2957439\n",
    "\n",
    "for idx, r_prouni in df_prouni.iterrows():\n",
    "    sexo = r_prouni[10]\n",
    "    raca = normRaca(r_prouni[11])\n",
    "    #dNasc = calcInterval(r_prouni[12])\n",
    "    dNasc = '[1890-01-01, 2021-05-30['\n",
    "    uf = r_prouni[15]\n",
    "    cidade = r_prouni[16]\n",
    "    \n",
    "    try:\n",
    "        idx = (dNasc, sexo, raca, uf, cidade)\n",
    "        #print(idx)\n",
    "        ataque = db_vacina.loc[idx]\n",
    "        pessoa = ataque.copy()\n",
    "    except KeyError:\n",
    "        pessoa = []\n",
    "    \n",
    "    if len(pessoa) > 0 and len(pessoa) < minimo: \n",
    "        print(len(pessoa))\n",
    "        minimo = len(pessoa)\n",
    "    \n",
    "    if len(pessoa) > 0 and len(pessoa) <= 180:\n",
    "        pessoa['cpf'] = r_prouni[9]\n",
    "        pessoa['ies'] = r_prouni[2]\n",
    "        pessoa['curso'] = r_prouni[7]\n",
    "        \n",
    "        if len(identificados) == 0:\n",
    "            identificados = pessoa\n",
    "        else:\n",
    "            identificados = pd.concat([identificados,pessoa])\n",
    "        \n",
    "        contador_identificado += 1\n",
    "    else:\n",
    "        contador_nao_identificado += 1\n",
    "        \n",
    "    #if contador_identificado + contador_nao_identificado == 10: break\n",
    "        \n",
    "print('Identificados', contador_identificado)\n",
    "print('Não identificados', contador_nao_identificado)\n",
    "total = contador_identificado + contador_nao_identificado\n",
    "persentual = (contador_identificado / total) * 100\n",
    "print('taxa de identificação', persentual, '%')"
   ]
  },
  {
   "cell_type": "code",
   "execution_count": 135,
   "id": "a4baaf90",
   "metadata": {},
   "outputs": [],
   "source": [
    "t={}\n",
    "for idx, line in db_vacina.iterrows():\n",
    "    if idx[0] in t.keys(): t[idx[0]] += 1\n",
    "    else: t[idx[0]] = 1"
   ]
  },
  {
   "cell_type": "code",
   "execution_count": 136,
   "id": "c8e0c74b",
   "metadata": {},
   "outputs": [
    {
     "data": {
      "text/plain": [
       "{'*': 171129, '[1890-01-01, 2021-05-30[': 2957439}"
      ]
     },
     "execution_count": 136,
     "metadata": {},
     "output_type": "execute_result"
    }
   ],
   "source": [
    "t"
   ]
  }
 ],
 "metadata": {
  "kernelspec": {
   "display_name": "Python 3 (ipykernel)",
   "language": "python",
   "name": "python3"
  },
  "language_info": {
   "codemirror_mode": {
    "name": "ipython",
    "version": 3
   },
   "file_extension": ".py",
   "mimetype": "text/x-python",
   "name": "python",
   "nbconvert_exporter": "python",
   "pygments_lexer": "ipython3",
   "version": "3.9.7"
  }
 },
 "nbformat": 4,
 "nbformat_minor": 5
}
